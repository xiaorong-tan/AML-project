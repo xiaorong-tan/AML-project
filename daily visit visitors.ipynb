{
 "cells": [
  {
   "cell_type": "code",
   "execution_count": null,
   "metadata": {},
   "outputs": [],
   "source": [
    "import pandas as pd\n",
    "import matplotlib.pyplot as plt\n",
    "airvis = pd.read_csv('restaurant/air_visit_data.csv')\n",
    "airvis.tail(200)"
   ]
  },
  {
   "cell_type": "code",
   "execution_count": null,
   "metadata": {
    "collapsed": true
   },
   "outputs": [],
   "source": [
    "import csv\n",
    "import numpy as np\n",
    "air_id = airvis.air_store_id;\n",
    "air_date = airvis.visit_date;\n",
    "list_id = [];\n",
    "list_date = []; # 无重复的日期\n",
    "# get visit date\n",
    "for i in range(0,len(air_date)):\n",
    "    if(air_date[i] not in list_date):\n",
    "        list_date.append(air_date[i]);\n",
    "# get air store id\n",
    "for i in range(0,len(air_id)):\n",
    "    if(air_id[i] not in list_id):\n",
    "        list_id.append(air_id[i]);"
   ]
  },
  {
   "cell_type": "code",
   "execution_count": null,
   "metadata": {},
   "outputs": [],
   "source": [
    "len(list_date)"
   ]
  },
  {
   "cell_type": "code",
   "execution_count": null,
   "metadata": {},
   "outputs": [],
   "source": [
    "day_vis = np.zeros((len(list_id),len(list_date)))\n",
    "for k in range(0, len(air_id)):\n",
    "    i = 0;\n",
    "    j = 0;\n",
    "    while (air_id[k] != list_id[i]) :\n",
    "        i = i + 1;\n",
    "        # throw exception\n",
    "        if (i > len(list_id)):\n",
    "            print(\"error i\");\n",
    "    while (air_date[k] != list_date[j]):\n",
    "        j = j + 1;\n",
    "        # throw exception\n",
    "        if (j > len(list_date)):\n",
    "            print(\"error i\");\n",
    "    day_vis[i,j] = airvis.visitors[k] + day_vis[i,j];\n",
    "\n",
    "np.savetxt('air_id_visitor_Fromvisitinformation.csv', day_vis, delimiter = ',') "
   ]
  },
  {
   "cell_type": "code",
   "execution_count": null,
   "metadata": {
    "collapsed": true
   },
   "outputs": [],
   "source": [
    "with open('new.csv', 'w', newline='') as myfile:\n",
    "    wr = csv.writer(myfile, quoting=csv.QUOTE_ALL)\n",
    "    wr.writerow(list_id);"
   ]
  },
  {
   "cell_type": "code",
   "execution_count": null,
   "metadata": {},
   "outputs": [],
   "source": [
    "len(list_id)"
   ]
  }
 ],
 "metadata": {
  "kernelspec": {
   "display_name": "Python 3",
   "language": "python",
   "name": "python3"
  },
  "language_info": {
   "codemirror_mode": {
    "name": "ipython",
    "version": 3
   },
   "file_extension": ".py",
   "mimetype": "text/x-python",
   "name": "python",
   "nbconvert_exporter": "python",
   "pygments_lexer": "ipython3",
   "version": "3.6.3"
  }
 },
 "nbformat": 4,
 "nbformat_minor": 2
}
