{
 "cells": [
  {
   "cell_type": "code",
   "execution_count": null,
   "metadata": {},
   "outputs": [],
   "source": [
    "import pandas as pd\n",
    "area = pd.read_csv('newtables/area_match_info.csv')\n",
    "airinfo = pd.read_csv('newtables/air_store_info_new.csv')\n",
    "hpginfo = pd.read_csv('newtables/hpg_store_info_new.csv')\n",
    "re = pd.read_csv('restaurant/store_id_relation.csv')\n",
    "genre = pd.read_csv('newtables/genre_match_info.csv')\n",
    "air_res_vis_store = pd.read_csv('newtables/air_res_vis_store.csv')\n",
    "hpg_res_store = pd.read_csv('newtables/hpg_res_store.csv', encoding='latin1')"
   ]
  },
  {
   "cell_type": "code",
   "execution_count": null,
   "metadata": {},
   "outputs": [],
   "source": [
    "hpginfo.tail()"
   ]
  },
  {
   "cell_type": "code",
   "execution_count": null,
   "metadata": {},
   "outputs": [],
   "source": [
    "airinfo.tail()"
   ]
  },
  {
   "cell_type": "code",
   "execution_count": null,
   "metadata": {
    "collapsed": true
   },
   "outputs": [],
   "source": [
    "airinfo.tail()"
   ]
  },
  {
   "cell_type": "code",
   "execution_count": null,
   "metadata": {},
   "outputs": [],
   "source": [
    "import time\n",
    "area_list = {'air':[], 'hpg':[]} # initialize a dict to store restaurants with same area\n",
    "area_temp = area.set_index('air_area', drop=False)  # a temporary area table, using it to find index\n",
    "start = time.clock()\n",
    "for i in range(0,len(area.air_area)):  # loop for areas of air restaurant \n",
    "    area_list[i] = {'air':[], 'hpg':[]}   # an area list, store restaurants with the same area\n",
    "    air_area_name = area.air_area[i]    # get the area name\n",
    "    for j in range(0,len(airinfo.air_store_id)):  \n",
    "        air = airinfo.air_store_id[j]\n",
    "        if (airinfo.loc[j, 'air_area_name'] == air_area_name):\n",
    "            for p in range(0,len(hpginfo.hpg_store_id)):\n",
    "                hpg = hpginfo.hpg_store_id[p]\n",
    "                hpg_area = hpginfo.loc[p, 'hpg_area_name']\n",
    "                if (area_temp.loc[air_area_name, hpg_area] == 1 or air_area_name == hpg_area):\n",
    "                    area_list[i]['air'].append(air)\n",
    "                    area_list[i]['hpg'].append(hpg)\n",
    "                    end = time.clock() - start\n",
    "                    print('Time costed:', end)\n",
    "    print('No. %d area' %i)                             \n"
   ]
  },
  {
   "cell_type": "code",
   "execution_count": null,
   "metadata": {},
   "outputs": [],
   "source": [
    "num = 0\n",
    "air_sum = 0\n",
    "hpg_sum = 0\n",
    "for i in range(0,len(area.air_area)):\n",
    "    if (len(area_list[i]['air']) != 0 ):\n",
    "        area_list[i]['air'] = list(set(area_list[i]['air']))\n",
    "        air_len = len(area_list[i]['air'])\n",
    "        area_list[i]['hpg'] = list(set(area_list[i]['hpg']))\n",
    "        hpg_len = len(area_list[i]['hpg'])\n",
    "        air_sum = air_sum + air_len\n",
    "        hpg_sum = hpg_sum + hpg_len\n",
    "        num += 1\n",
    "print('Total matching areas:', num)\n",
    "print('Total air matching restaurants:', air_sum)\n",
    "print('Total hpg matching restaurants:', hpg_sum)"
   ]
  },
  {
   "cell_type": "code",
   "execution_count": null,
   "metadata": {},
   "outputs": [],
   "source": [
    "area_list"
   ]
  },
  {
   "cell_type": "code",
   "execution_count": null,
   "metadata": {},
   "outputs": [],
   "source": [
    "# match latitude and longitude\n",
    "start = time.clock()\n",
    "for i in range(0, len(airinfo.air_store_id)):\n",
    "    lalo_list[i] = {'hpg':[]}\n",
    "    for j in range(0, len(hpginfo.hpg_store_id)):\n",
    "        if (abs(airinfo.latitude[i] - hpginfo.latitude[j]) <= 0.25 and abs(airinfo.longitude[i] - hpginfo.longitude[j]) <= 0.05):\n",
    "            lalo_list[i]['hpg'].append(hpginfo.hpg_store_id[j])\n",
    "            print('Matching No.%d air restaurant and No.%d hpg' %(i, j))\n",
    "end = (time.clock() - start) / 60\n",
    "print('Time costed: %s minutes' %end)"
   ]
  },
  {
   "cell_type": "code",
   "execution_count": null,
   "metadata": {},
   "outputs": [],
   "source": [
    "num = 0\n",
    "for i in range(0,len(lalo_list) - 2):\n",
    "    if (len(lalo_list[i]['hpg']) == 0):\n",
    "        num += 1\n",
    "        print(i)\n",
    "print(num)"
   ]
  },
  {
   "cell_type": "code",
   "execution_count": null,
   "metadata": {},
   "outputs": [],
   "source": [
    "# matching area and latitude/longitude\n",
    "for i in range(0, len(airinfo.air_store_id)):\n",
    "    for j in range(0, len(area_list) - 2):\n",
    "        for p in range(0, len(area_list[j]['air'])):\n",
    "            if (area_list[j]['air'][p] == airinfo.air_store_id[i] and len(lalo_list[i]['hpg']) != 0):\n",
    "                lalo_list[i]['hpg'] = list(set(lalo_list[i]['hpg']).intersection(set(area_list[j]['hpg'])))\n",
    "            if (area_list[j]['air'][p] == airinfo.air_store_id[i] and len(lalo_list[i]['hpg']) == 0):\n",
    "                lalo_list[i]['hpg'] = list(set(lalo_list[i]['hpg']).union(set(area_list[j]['hpg'])))\n",
    "    print('Calculating No.%d air restaurant' %i)"
   ]
  },
  {
   "cell_type": "code",
   "execution_count": null,
   "metadata": {},
   "outputs": [],
   "source": [
    "airid = airinfo.air_store_id\n",
    "area_match = lalo_list\n",
    "genre_temp = genre.set_index('air_genre', drop=False)\n",
    "genre_hpg = hpginfo.set_index('hpg_store_id', drop=False)\n",
    "genre_match = {'hpg':[]}\n",
    "for i in range(0, len(airid)):\n",
    "    genre_match[i] = {'hpg':[]}\n",
    "    airgenre = airinfo.loc[i, 'air_genre_name']\n",
    "    for j in range(0, len(area_match[i]['hpg'])):\n",
    "        hpggenre = genre_hpg.loc[area_match[i]['hpg'][j], 'hpg_genre_name']\n",
    "        if (genre_temp.loc['genre_'+airgenre,'genre_'+hpggenre] == 1):\n",
    "            genre_match[i]['hpg'].append(area_match[i]['hpg'][j])\n",
    "    print('Matching No.%d air restaurant' %i)"
   ]
  },
  {
   "cell_type": "code",
   "execution_count": null,
   "metadata": {},
   "outputs": [],
   "source": [
    "genre_match"
   ]
  },
  {
   "cell_type": "code",
   "execution_count": null,
   "metadata": {},
   "outputs": [],
   "source": [
    "import numpy as np\n",
    "import time\n",
    "import fastdtw\n",
    "from scipy.spatial.distance import euclidean\n",
    "from fastdtw import fastdtw\n",
    "start_time = time.clock()\n",
    "air_temp = air_res_vis_store.set_index(\"air_store_id\", drop=False)\n",
    "hpg_temp = hpg_res_store.set_index('hpg_store_id', drop=False)\n",
    "count = 0\n",
    "airid = airinfo.air_store_id\n",
    "dist = {'hpg':[], 'distance':[]}\n",
    "for i in range(0,len(genre_match)-2):\n",
    "    if (len(genre_match[i]['hpg']) != 0):\n",
    "        # get air_visit visitors\n",
    "        air_vis_list = air_temp.loc[airid[i],air_res_vis_store.columns[434]:air_res_vis_store.columns[911]]\n",
    "        # initialize distance list\n",
    "        dist[i] = {'hpg':[], 'distance':[]}\n",
    "        # get hpg_reserve visitors\n",
    "        for j in range(0,len(genre_match[i]['hpg'])):\n",
    "            hpg_res_list = hpg_temp.loc[genre_match[i]['hpg'][j],hpg_res_store.columns[1]:hpg_res_store.columns[517]]\n",
    "            distance, path = fastdtw(air_vis_list, hpg_res_list, dist=euclidean)\n",
    "            dist[i]['distance'].append(distance)\n",
    "            dist[i]['hpg'].append(genre_match[i]['hpg'][j])\n",
    "    # get minimum distance\n",
    "    min_dis = min(dist[i]['distance'])\n",
    "    min_idx = dist[i]['distance'].index(min_dis)\n",
    "    hpg_matching = dist[i]['hpg'][min_idx]\n",
    "    end = (time.clock() - start_time) / 60\n",
    "    # print results\n",
    "    print('%s is matched with %s, DTW distance: %d' %(airid[i], hpg_matching, min_dis))\n",
    "    print('Time costed: %s minutes' %end)\n",
    "    print('\\n')"
   ]
  },
  {
   "cell_type": "code",
   "execution_count": null,
   "metadata": {
    "collapsed": true
   },
   "outputs": [],
   "source": [
    "match_list = []\n",
    "for m in range(0,len(re.air_store_id)):\n",
    "    for n in range(0, len(airid)):\n",
    "        if (airid[n] == re.air_store_id[m]):\n",
    "            match_list.append(airid[n])"
   ]
  },
  {
   "cell_type": "code",
   "execution_count": null,
   "metadata": {},
   "outputs": [],
   "source": [
    "len(match_list)"
   ]
  }
 ],
 "metadata": {
  "kernelspec": {
   "display_name": "Python 3",
   "language": "python",
   "name": "python3"
  },
  "language_info": {
   "codemirror_mode": {
    "name": "ipython",
    "version": 3
   },
   "file_extension": ".py",
   "mimetype": "text/x-python",
   "name": "python",
   "nbconvert_exporter": "python",
   "pygments_lexer": "ipython3",
   "version": "3.6.3"
  }
 },
 "nbformat": 4,
 "nbformat_minor": 2
}
