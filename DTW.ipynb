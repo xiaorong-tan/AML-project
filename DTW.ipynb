{
 "cells": [
  {
   "cell_type": "code",
   "execution_count": 2,
   "metadata": {},
   "outputs": [
    {
     "name": "stdout",
     "output_type": "stream",
     "text": [
      "C:\\Users\\tanxi\\newtables\n"
     ]
    }
   ],
   "source": [
    "cd newtables\\"
   ]
  },
  {
   "cell_type": "code",
   "execution_count": null,
   "metadata": {
    "collapsed": true
   },
   "outputs": [],
   "source": [
    "import pandas as pd\n",
    "hpg_res_store = pd.read_csv('hpg_res_store.csv', encoding='latin1', low_memory = False)\n",
    "air_res_vis_store = pd.read_csv('air_res_vis_store.csv', encoding='latin1')\n",
    "store_re = pd.read_csv('C:/Users/tanxi/restaurant/store_id_relation.csv',encoding='utf-8')"
   ]
  },
  {
   "cell_type": "code",
   "execution_count": null,
   "metadata": {
    "collapsed": true
   },
   "outputs": [],
   "source": [
    "import numpy as np\n",
    "import time\n",
    "import fastdtw\n",
    "from scipy.spatial.distance import euclidean\n",
    "from fastdtw import fastdtw\n",
    "start_time = time.clock()\n",
    "air_temp = air_res_vis_store.set_index(\"air_store_id\", drop=False)\n",
    "hpg_temp = hpg_res_store.set_index('hpg_store_id', drop=False)\n",
    "count = 0\n",
    "for i in range(0,150):\n",
    "    air_id = store_re.air_store_id[i] # get air restaurant id\n",
    "    hpg_id = store_re.hpg_store_id[i] \n",
    "    # get air_visit visitors\n",
    "    air_vis_list = air_temp.loc[air_id,air_res_vis_store.columns[434]:air_res_vis_store.columns[911]]\n",
    "    # get index of the first non-zero value\n",
    "    for j in range(0,len(air_vis_list)):\n",
    "        if(air_vis_list[j] !=0 ):\n",
    "            air_idx = j\n",
    "            break\n",
    "    # get visitors as input\n",
    "    air_vis_list = air_vis_list[air_idx:-1]\n",
    "    # initialize distance list\n",
    "    dist = []\n",
    "    # get hpg_reserve visitors\n",
    "    for m in range(0,150):\n",
    "        hpg_res_list = hpg_temp.loc[store_re.hpg_store_id[m],hpg_res_store.columns[1]:hpg_res_store.columns[517]]\n",
    "        hpg_res_list = hpg_res_list[air_idx:-1]\n",
    "        distance, path = fastdtw(air_vis_list, hpg_res_list, dist=euclidean)\n",
    "        dist.append(distance)\n",
    "    # get minimum distance\n",
    "    min_dis = min(dist)\n",
    "    min_idx = dist.index(min_dis)\n",
    "    hpg_matching = dist[i]\n",
    "    dist.sort()\n",
    "    hpg_idx = dist.index(hpg_matching)\n",
    "    # print results\n",
    "    print('No.%d %s is matching with %s' %(i, air_id, hpg_id))\n",
    "    print('DTW: Minimum distance is %d, index of minimum dis/hpg restaurant is %d' %(min_dis, min_idx))\n",
    "    print('Correct matching distance is %d, the ranking of matching distance is %d' %(hpg_matching, hpg_idx))\n",
    "    end_time = (time.clock() - start_time) / 60\n",
    "    print('Time costed: %s minutes' %end_time)\n",
    "    if (min_dis == hpg_matching):\n",
    "        count += 1\n",
    "        print('Matching result: Matched LOL')\n",
    "    else:\n",
    "        print('Matching result: Not Matched TAT')\n",
    "    print('Correct matching times: %d' %count)\n",
    "    print('\\n')\n",
    "rate = count / 150 * 100\n",
    "print('Correct matching rate: %s' %rate +'%')"
   ]
  },
  {
   "cell_type": "code",
   "execution_count": 3,
   "metadata": {},
   "outputs": [],
   "source": [
    "import pandas as pd\n",
    "hpg_res_store = pd.read_csv('newtables/hpg_res_store.csv', encoding='latin1', low_memory = False)\n",
    "air_res_vis_store = pd.read_csv('newtables/air_res_vis_store.csv', encoding='latin1')\n",
    "store_re = pd.read_csv('restaurant/store_id_relation.csv',encoding='utf-8')"
   ]
  },
  {
   "cell_type": "code",
   "execution_count": 4,
   "metadata": {},
   "outputs": [
    {
     "data": {
      "text/html": [
       "<div>\n",
       "<style>\n",
       "    .dataframe thead tr:only-child th {\n",
       "        text-align: right;\n",
       "    }\n",
       "\n",
       "    .dataframe thead th {\n",
       "        text-align: left;\n",
       "    }\n",
       "\n",
       "    .dataframe tbody tr th {\n",
       "        vertical-align: top;\n",
       "    }\n",
       "</style>\n",
       "<table border=\"1\" class=\"dataframe\">\n",
       "  <thead>\n",
       "    <tr style=\"text-align: right;\">\n",
       "      <th></th>\n",
       "      <th>air_store_id</th>\n",
       "      <th>hpg_store_id</th>\n",
       "    </tr>\n",
       "  </thead>\n",
       "  <tbody>\n",
       "    <tr>\n",
       "      <th>0</th>\n",
       "      <td>air_63b13c56b7201bd9</td>\n",
       "      <td>hpg_4bc649e72e2a239a</td>\n",
       "    </tr>\n",
       "    <tr>\n",
       "      <th>1</th>\n",
       "      <td>air_a24bf50c3e90d583</td>\n",
       "      <td>hpg_c34b496d0305a809</td>\n",
       "    </tr>\n",
       "    <tr>\n",
       "      <th>2</th>\n",
       "      <td>air_c7f78b4f3cba33ff</td>\n",
       "      <td>hpg_cd8ae0d9bbd58ff9</td>\n",
       "    </tr>\n",
       "    <tr>\n",
       "      <th>3</th>\n",
       "      <td>air_947eb2cae4f3e8f2</td>\n",
       "      <td>hpg_de24ea49dc25d6b8</td>\n",
       "    </tr>\n",
       "    <tr>\n",
       "      <th>4</th>\n",
       "      <td>air_965b2e0cf4119003</td>\n",
       "      <td>hpg_653238a84804d8e7</td>\n",
       "    </tr>\n",
       "  </tbody>\n",
       "</table>\n",
       "</div>"
      ],
      "text/plain": [
       "           air_store_id          hpg_store_id\n",
       "0  air_63b13c56b7201bd9  hpg_4bc649e72e2a239a\n",
       "1  air_a24bf50c3e90d583  hpg_c34b496d0305a809\n",
       "2  air_c7f78b4f3cba33ff  hpg_cd8ae0d9bbd58ff9\n",
       "3  air_947eb2cae4f3e8f2  hpg_de24ea49dc25d6b8\n",
       "4  air_965b2e0cf4119003  hpg_653238a84804d8e7"
      ]
     },
     "execution_count": 4,
     "metadata": {},
     "output_type": "execute_result"
    }
   ],
   "source": [
    "store_re.head()"
   ]
  },
  {
   "cell_type": "code",
   "execution_count": 4,
   "metadata": {},
   "outputs": [],
   "source": [
    "air_temp = air_res_vis_store.set_index(\"air_store_id\", drop=False)\n",
    "hpg_temp = hpg_res_store.set_index('hpg_store_id', drop=False)\n",
    "air_vis_list = air_temp.loc['air_63b13c56b7201bd9',air_res_vis_store.columns[434]:air_res_vis_store.columns[911]]\n",
    "hpg_res_list = hpg_temp.loc['hpg_4bc649e72e2a239a',hpg_res_store.columns[1]:hpg_res_store.columns[517]]"
   ]
  },
  {
   "cell_type": "code",
   "execution_count": 5,
   "metadata": {
    "collapsed": true
   },
   "outputs": [],
   "source": [
    "air_list = []\n",
    "hpg_list = []\n",
    "for i in range(0, len(air_vis_list)):\n",
    "    air_list.append(air_vis_list[i])\n",
    "for j in range(0, len(hpg_res_list)):\n",
    "    hpg_list.append(hpg_res_list[j])"
   ]
  },
  {
   "cell_type": "code",
   "execution_count": 6,
   "metadata": {},
   "outputs": [
    {
     "data": {
      "image/png": "[encoded data removed]",
      "text/plain": [
       "<Figure size 432x288 with 1 Axes>"
      ]
     },
     "metadata": {},
     "output_type": "display_data"
    }
   ],
   "source": [
    "import matplotlib.pyplot as plt\n",
    "plt.xlabel('Time')\n",
    "plt.ylabel('Visitors')\n",
    "plt.title('Visitors of a restaurant in 2 apps')\n",
    "airV, = plt.plot(air_list)\n",
    "hpgV, = plt.plot(hpg_list)\n",
    "plt.legend([airV, hpgV], ['air', 'hgp'], loc='upper left')\n",
    "plt.savefig('visitors2.png')\n",
    "plt.show()"
   ]
  },
  {
   "cell_type": "code",
   "execution_count": 7,
   "metadata": {
    "collapsed": true
   },
   "outputs": [],
   "source": []
  },
  {
   "cell_type": "code",
   "execution_count": 16,
   "metadata": {
    "collapsed": true
   },
   "outputs": [],
   "source": [
    "air_vis_list = air_vis_list[0:-1]"
   ]
  },
  {
   "cell_type": "code",
   "execution_count": 5,
   "metadata": {
    "collapsed": true
   },
   "outputs": [],
   "source": []
  }
 ],
 "metadata": {
  "kernelspec": {
   "display_name": "Python 3",
   "language": "python",
   "name": "python3"
  },
  "language_info": {
   "codemirror_mode": {
    "name": "ipython",
    "version": 3
   },
   "file_extension": ".py",
   "mimetype": "text/x-python",
   "name": "python",
   "nbconvert_exporter": "python",
   "pygments_lexer": "ipython3",
   "version": "3.6.3"
  }
 },
 "nbformat": 4,
 "nbformat_minor": 2
}
