{
 "cells": [
  {
   "cell_type": "code",
   "execution_count": 19,
   "metadata": {
    "collapsed": true
   },
   "outputs": [],
   "source": [
    "from sklearn import linear_model\n",
    "import pickle\n",
    "from scipy import stats\n",
    "import pandas as pd\n",
    "\n",
    "with open('train.pickle', 'rb') as r:\n",
    "    train = pickle.load(r)\n",
    "with open('test.pickle', 'rb') as r:\n",
    "    test = pickle.load(r)\n",
    "    \n",
    "features = [f for f in train if f not in ['air_store_id', 'visit_date', 'visitors']]\n",
    "train_size = int(len(train)*0.7)\n",
    "test_size = len(train) - train_size\n",
    "input_train = train[features][0:train_size]\n",
    "input_test = train[features][train_size:len(train)]\n",
    "train_visitors = train.visitors.values[0:train_size]\n",
    "test_visitors = train.visitors.values[train_size:len(train)]\n",
    "\n",
    "reg = linear_model.Lasso(alpha=0.1, copy_X=True, fit_intercept=True, max_iter=1000,\n",
    "   normalize=False, positive=False, precompute=False, random_state=None,\n",
    "   selection='cyclic', tol=0.0001, warm_start=False)\n",
    "reg.fit(input_train, train_visitors)\n",
    "pred_lasso01 = reg.predict(input_test)\n"
   ]
  },
  {
   "cell_type": "code",
   "execution_count": 21,
   "metadata": {
    "collapsed": true
   },
   "outputs": [],
   "source": [
    "   \n",
    "features = [f for f in train if f not in ['air_store_id', 'visit_date', 'visitors']]\n",
    "input_train = train[features]\n",
    "input_test = test[features]\n",
    "train_visitors = train.visitors.values\n",
    "test_visitors = test.visitors.values\n",
    "\n",
    "reg = linear_model.Lasso(alpha=0.1, copy_X=True, fit_intercept=True, max_iter=1000,\n",
    "   normalize=False, positive=False, precompute=False, random_state=None,\n",
    "   selection='cyclic', tol=0.0001, warm_start=False)\n",
    "reg.fit(input_train, train_visitors)\n",
    "pred_lasso1 = reg.predict(input_test)"
   ]
  },
  {
   "cell_type": "code",
   "execution_count": 22,
   "metadata": {},
   "outputs": [
    {
     "data": {
      "text/plain": [
       "561.4123668752987"
      ]
     },
     "execution_count": 22,
     "metadata": {},
     "output_type": "execute_result"
    }
   ],
   "source": [
    "import matplotlib.pyplot as plt\n",
    "from sklearn.metrics import mean_squared_error\n",
    "mean_squared_error(test_visitors, pred_lasso1)"
   ]
  },
  {
   "cell_type": "code",
   "execution_count": 34,
   "metadata": {
    "collapsed": true
   },
   "outputs": [],
   "source": [
    "import csv\n",
    "test['visitors'] = pred_lasso1\n",
    "sub_lasso1 = test[['id', 'visitors']].copy()\n",
    "sub_lasso1.to_csv('sub_lasso1.csv', index=False)"
   ]
  },
  {
   "cell_type": "code",
   "execution_count": 33,
   "metadata": {},
   "outputs": [
    {
     "data": {
      "text/html": [
       "<div>\n",
       "<style>\n",
       "    .dataframe thead tr:only-child th {\n",
       "        text-align: right;\n",
       "    }\n",
       "\n",
       "    .dataframe thead th {\n",
       "        text-align: left;\n",
       "    }\n",
       "\n",
       "    .dataframe tbody tr th {\n",
       "        vertical-align: top;\n",
       "    }\n",
       "</style>\n",
       "<table border=\"1\" class=\"dataframe\">\n",
       "  <thead>\n",
       "    <tr style=\"text-align: right;\">\n",
       "      <th></th>\n",
       "      <th>id</th>\n",
       "      <th>visitors</th>\n",
       "      <th>visit_date</th>\n",
       "      <th>air_store_id</th>\n",
       "      <th>dow</th>\n",
       "      <th>year</th>\n",
       "      <th>month</th>\n",
       "      <th>day_of_week</th>\n",
       "      <th>holiday_flg</th>\n",
       "      <th>min_visitors</th>\n",
       "      <th>...</th>\n",
       "      <th>air_genre_name9</th>\n",
       "      <th>air_area_name9</th>\n",
       "      <th>sum of diff_x</th>\n",
       "      <th>sum of res vistors_x</th>\n",
       "      <th>mean of diff_x</th>\n",
       "      <th>mean of res visitors_x</th>\n",
       "      <th>sum of diff_y</th>\n",
       "      <th>sum of res vistors_y</th>\n",
       "      <th>mean of diff_y</th>\n",
       "      <th>mean of res visitors_y</th>\n",
       "    </tr>\n",
       "  </thead>\n",
       "  <tbody>\n",
       "    <tr>\n",
       "      <th>0</th>\n",
       "      <td>air_00a91d42b08b08d9_2017-04-23</td>\n",
       "      <td>1.744458</td>\n",
       "      <td>2017-04-23</td>\n",
       "      <td>air_00a91d42b08b08d9</td>\n",
       "      <td>6</td>\n",
       "      <td>2017</td>\n",
       "      <td>4</td>\n",
       "      <td>3</td>\n",
       "      <td>0</td>\n",
       "      <td>2.0</td>\n",
       "      <td>...</td>\n",
       "      <td>0</td>\n",
       "      <td>0</td>\n",
       "      <td>-1.0</td>\n",
       "      <td>-1.0</td>\n",
       "      <td>-1.0</td>\n",
       "      <td>-1.0</td>\n",
       "      <td>-1.0</td>\n",
       "      <td>-1.0</td>\n",
       "      <td>-1.0</td>\n",
       "      <td>-1.0</td>\n",
       "    </tr>\n",
       "    <tr>\n",
       "      <th>1</th>\n",
       "      <td>air_00a91d42b08b08d9_2017-04-24</td>\n",
       "      <td>21.361782</td>\n",
       "      <td>2017-04-24</td>\n",
       "      <td>air_00a91d42b08b08d9</td>\n",
       "      <td>0</td>\n",
       "      <td>2017</td>\n",
       "      <td>4</td>\n",
       "      <td>1</td>\n",
       "      <td>0</td>\n",
       "      <td>1.0</td>\n",
       "      <td>...</td>\n",
       "      <td>0</td>\n",
       "      <td>0</td>\n",
       "      <td>-1.0</td>\n",
       "      <td>-1.0</td>\n",
       "      <td>-1.0</td>\n",
       "      <td>-1.0</td>\n",
       "      <td>-1.0</td>\n",
       "      <td>-1.0</td>\n",
       "      <td>-1.0</td>\n",
       "      <td>-1.0</td>\n",
       "    </tr>\n",
       "    <tr>\n",
       "      <th>2</th>\n",
       "      <td>air_00a91d42b08b08d9_2017-04-25</td>\n",
       "      <td>23.297868</td>\n",
       "      <td>2017-04-25</td>\n",
       "      <td>air_00a91d42b08b08d9</td>\n",
       "      <td>1</td>\n",
       "      <td>2017</td>\n",
       "      <td>4</td>\n",
       "      <td>5</td>\n",
       "      <td>0</td>\n",
       "      <td>1.0</td>\n",
       "      <td>...</td>\n",
       "      <td>0</td>\n",
       "      <td>0</td>\n",
       "      <td>-1.0</td>\n",
       "      <td>-1.0</td>\n",
       "      <td>-1.0</td>\n",
       "      <td>-1.0</td>\n",
       "      <td>-1.0</td>\n",
       "      <td>-1.0</td>\n",
       "      <td>-1.0</td>\n",
       "      <td>-1.0</td>\n",
       "    </tr>\n",
       "    <tr>\n",
       "      <th>3</th>\n",
       "      <td>air_00a91d42b08b08d9_2017-04-26</td>\n",
       "      <td>27.241731</td>\n",
       "      <td>2017-04-26</td>\n",
       "      <td>air_00a91d42b08b08d9</td>\n",
       "      <td>2</td>\n",
       "      <td>2017</td>\n",
       "      <td>4</td>\n",
       "      <td>6</td>\n",
       "      <td>0</td>\n",
       "      <td>15.0</td>\n",
       "      <td>...</td>\n",
       "      <td>0</td>\n",
       "      <td>0</td>\n",
       "      <td>-1.0</td>\n",
       "      <td>-1.0</td>\n",
       "      <td>-1.0</td>\n",
       "      <td>-1.0</td>\n",
       "      <td>-1.0</td>\n",
       "      <td>-1.0</td>\n",
       "      <td>-1.0</td>\n",
       "      <td>-1.0</td>\n",
       "    </tr>\n",
       "    <tr>\n",
       "      <th>4</th>\n",
       "      <td>air_00a91d42b08b08d9_2017-04-27</td>\n",
       "      <td>28.882264</td>\n",
       "      <td>2017-04-27</td>\n",
       "      <td>air_00a91d42b08b08d9</td>\n",
       "      <td>3</td>\n",
       "      <td>2017</td>\n",
       "      <td>4</td>\n",
       "      <td>4</td>\n",
       "      <td>0</td>\n",
       "      <td>15.0</td>\n",
       "      <td>...</td>\n",
       "      <td>0</td>\n",
       "      <td>0</td>\n",
       "      <td>-1.0</td>\n",
       "      <td>-1.0</td>\n",
       "      <td>-1.0</td>\n",
       "      <td>-1.0</td>\n",
       "      <td>-1.0</td>\n",
       "      <td>-1.0</td>\n",
       "      <td>-1.0</td>\n",
       "      <td>-1.0</td>\n",
       "    </tr>\n",
       "  </tbody>\n",
       "</table>\n",
       "<p>5 rows × 46 columns</p>\n",
       "</div>"
      ],
      "text/plain": [
       "                                id   visitors  visit_date  \\\n",
       "0  air_00a91d42b08b08d9_2017-04-23   1.744458  2017-04-23   \n",
       "1  air_00a91d42b08b08d9_2017-04-24  21.361782  2017-04-24   \n",
       "2  air_00a91d42b08b08d9_2017-04-25  23.297868  2017-04-25   \n",
       "3  air_00a91d42b08b08d9_2017-04-26  27.241731  2017-04-26   \n",
       "4  air_00a91d42b08b08d9_2017-04-27  28.882264  2017-04-27   \n",
       "\n",
       "           air_store_id  dow  year  month  day_of_week  holiday_flg  \\\n",
       "0  air_00a91d42b08b08d9    6  2017      4            3            0   \n",
       "1  air_00a91d42b08b08d9    0  2017      4            1            0   \n",
       "2  air_00a91d42b08b08d9    1  2017      4            5            0   \n",
       "3  air_00a91d42b08b08d9    2  2017      4            6            0   \n",
       "4  air_00a91d42b08b08d9    3  2017      4            4            0   \n",
       "\n",
       "   min_visitors           ...            air_genre_name9  air_area_name9  \\\n",
       "0           2.0           ...                          0               0   \n",
       "1           1.0           ...                          0               0   \n",
       "2           1.0           ...                          0               0   \n",
       "3          15.0           ...                          0               0   \n",
       "4          15.0           ...                          0               0   \n",
       "\n",
       "   sum of diff_x  sum of res vistors_x  mean of diff_x  \\\n",
       "0           -1.0                  -1.0            -1.0   \n",
       "1           -1.0                  -1.0            -1.0   \n",
       "2           -1.0                  -1.0            -1.0   \n",
       "3           -1.0                  -1.0            -1.0   \n",
       "4           -1.0                  -1.0            -1.0   \n",
       "\n",
       "   mean of res visitors_x  sum of diff_y  sum of res vistors_y  \\\n",
       "0                    -1.0           -1.0                  -1.0   \n",
       "1                    -1.0           -1.0                  -1.0   \n",
       "2                    -1.0           -1.0                  -1.0   \n",
       "3                    -1.0           -1.0                  -1.0   \n",
       "4                    -1.0           -1.0                  -1.0   \n",
       "\n",
       "   mean of diff_y  mean of res visitors_y  \n",
       "0            -1.0                    -1.0  \n",
       "1            -1.0                    -1.0  \n",
       "2            -1.0                    -1.0  \n",
       "3            -1.0                    -1.0  \n",
       "4            -1.0                    -1.0  \n",
       "\n",
       "[5 rows x 46 columns]"
      ]
     },
     "execution_count": 33,
     "metadata": {},
     "output_type": "execute_result"
    }
   ],
   "source": [
    "test.head()"
   ]
  },
  {
   "cell_type": "code",
   "execution_count": 24,
   "metadata": {},
   "outputs": [
    {
     "data": {
      "image/png": "[encoded data removed]",
      "text/plain": [
       "<Figure size 432x288 with 1 Axes>"
      ]
     },
     "metadata": {},
     "output_type": "display_data"
    }
   ],
   "source": [
    "trueV, = plt.plot(test_visitors[0:1000])\n",
    "predV, = plt.plot(pred_lasso1[0:1000])\n",
    "plt.xlabel('time')\n",
    "plt.ylabel('visitors')\n",
    "plt.legend([trueV, predV], ['true values', 'predictions'])\n",
    "plt.show()"
   ]
  },
  {
   "cell_type": "code",
   "execution_count": 12,
   "metadata": {},
   "outputs": [
    {
     "data": {
      "text/plain": [
       "293.4964017894642"
      ]
     },
     "execution_count": 12,
     "metadata": {},
     "output_type": "execute_result"
    }
   ],
   "source": [
    "with open('svm_test_C10_gamma0_001.pickle', 'rb') as r:\n",
    "    pred_svm1 = pickle.load(r)\n",
    "mean_squared_error(test_visitors, pred_svm1)"
   ]
  },
  {
   "cell_type": "code",
   "execution_count": 20,
   "metadata": {
    "collapsed": true
   },
   "outputs": [],
   "source": [
    "with open('lasso_test_alpha0_1.pickle', 'wb') as w:\n",
    "    pickle.dump(pred_lasso01, w)"
   ]
  },
  {
   "cell_type": "code",
   "execution_count": 1,
   "metadata": {
    "collapsed": true
   },
   "outputs": [],
   "source": [
    "import pickle\n",
    "with open('lasso_test_alpha0_01.pickle', 'rb') as r:\n",
    "    alpha001 = pickle.load(r)\n",
    "with open('train.pickle', 'rb') as r:\n",
    "    train = pickle.load(r)\n",
    "with open('lasso_test_alpha1.pickle', 'rb') as r:\n",
    "    alpha1 = pickle.load(r)\n",
    "with open('lasso_test_alpha0_1.pickle', 'rb') as r:\n",
    "    alpha01 = pickle.load(r)"
   ]
  },
  {
   "cell_type": "code",
   "execution_count": 2,
   "metadata": {
    "collapsed": true
   },
   "outputs": [],
   "source": [
    "features = [f for f in train if f not in ['air_store_id', 'visit_date', 'visitors']]\n",
    "train_size = int(len(train)*0.7)\n",
    "test_size = len(train) - train_size\n",
    "input_train = train[features][0:train_size]\n",
    "input_test = train[features][train_size:len(train)]\n",
    "train_visitors = train.visitors.values[0:train_size]\n",
    "test_visitors = train.visitors.values[train_size:len(train)]"
   ]
  },
  {
   "cell_type": "code",
   "execution_count": 5,
   "metadata": {},
   "outputs": [
    {
     "data": {
      "text/plain": [
       "<Figure size 432x288 with 0 Axes>"
      ]
     },
     "metadata": {},
     "output_type": "display_data"
    },
    {
     "data": {
      "image/png": "[encoded data removed]",
      "text/plain": [
       "<Figure size 576x288 with 1 Axes>"
      ]
     },
     "metadata": {},
     "output_type": "display_data"
    }
   ],
   "source": [
    "import matplotlib.pyplot as plt\n",
    "plt.figure(figsize=(8,4))\n",
    "trueV, = plt.plot(test_visitors[0:100])\n",
    "pred_001, = plt.plot(alpha001[0:100])\n",
    "pred_01, = plt.plot(alpha01[0:100])\n",
    "pred_1, = plt.plot(alpha1[0:100])\n",
    "plt.xlabel('Visitors')\n",
    "plt.ylabel('Time')\n",
    "plt.title('Lasso Regression')\n",
    "plt.legend([trueV, pred_001, pred_01, pred_1], ['True values', 'alpha=0.01', 'alpha=0.1', 'alpha=1'], loc='upper left')\n",
    "plt.savefig('lasso.png')\n",
    "plt.show()\n"
   ]
  },
  {
   "cell_type": "code",
   "execution_count": 24,
   "metadata": {},
   "outputs": [
    {
     "data": {
      "text/plain": [
       "<matplotlib.lines.Line2D at 0x25feb64af98>"
      ]
     },
     "execution_count": 24,
     "metadata": {},
     "output_type": "execute_result"
    }
   ],
   "source": [
    "pred_001"
   ]
  },
  {
   "cell_type": "code",
   "execution_count": 4,
   "metadata": {
    "collapsed": true
   },
   "outputs": [],
   "source": []
  },
  {
   "cell_type": "code",
   "execution_count": 25,
   "metadata": {
    "collapsed": true
   },
   "outputs": [],
   "source": [
    "from sklearn.metrics import mean_squared_error\n",
    "error001 = mean_squared_error(test_visitors, alpha001)\n",
    "error01 = mean_squared_error(test_visitors, alpha01)\n",
    "error1 = mean_squared_error(test_visitors, alpha1)"
   ]
  },
  {
   "cell_type": "code",
   "execution_count": 26,
   "metadata": {},
   "outputs": [
    {
     "data": {
      "text/plain": [
       "104.13606516423589"
      ]
     },
     "execution_count": 26,
     "metadata": {},
     "output_type": "execute_result"
    }
   ],
   "source": [
    "error001"
   ]
  },
  {
   "cell_type": "code",
   "execution_count": 27,
   "metadata": {},
   "outputs": [
    {
     "data": {
      "text/plain": [
       "104.41088588523264"
      ]
     },
     "execution_count": 27,
     "metadata": {},
     "output_type": "execute_result"
    }
   ],
   "source": [
    "error01"
   ]
  },
  {
   "cell_type": "code",
   "execution_count": 28,
   "metadata": {},
   "outputs": [
    {
     "data": {
      "text/plain": [
       "105.08655010682384"
      ]
     },
     "execution_count": 28,
     "metadata": {},
     "output_type": "execute_result"
    }
   ],
   "source": [
    "error1"
   ]
  }
 ],
 "metadata": {
  "kernelspec": {
   "display_name": "Python 3",
   "language": "python",
   "name": "python3"
  },
  "language_info": {
   "codemirror_mode": {
    "name": "ipython",
    "version": 3
   },
   "file_extension": ".py",
   "mimetype": "text/x-python",
   "name": "python",
   "nbconvert_exporter": "python",
   "pygments_lexer": "ipython3",
   "version": "3.6.3"
  }
 },
 "nbformat": 4,
 "nbformat_minor": 2
}
