{
 "cells": [
  {
   "cell_type": "code",
   "execution_count": null,
   "metadata": {
    "collapsed": true
   },
   "outputs": [],
   "source": [
    "from sklearn import svm\n",
    "from sklearn.svm import SVR\n",
    "import pickle\n",
    "with open('train.pickle', 'rb') as r:\n",
    "    train = pickle.load(r)\n",
    "with open('test.pickle', 'rb') as r:\n",
    "    test = pickle.load(r)\n",
    "features = [f for f in train if f not in ['air_store_id', 'visit_date', 'visitors']]\n",
    "train_size = int(len(train)*0.7)\n",
    "test_size = len(train) - train_size\n",
    "input_train = train[features][0:train_size]\n",
    "input_test = train[features][train_size:len(train)]\n",
    "train_visitors = train.visitors.values[0:train_size]\n",
    "test_visitors = train.visitors.values[train_size:len(train)]\n",
    "clf = svm.SVR(C=10, cache_size=300, coef0=0.0, degree=3, epsilon=0.1, gamma=1,\n",
    "    kernel='poly', max_iter=-1, shrinking=True, tol=0.001, verbose=False)\n",
    "clf.fit(input_train, train_visitors) \n",
    "pred3 = clf.predict(input_test)\n",
    "with open('svm_test_C10_gamma1_poly.pickle', 'wb') as w:\n",
    "    pickle.dump(pred3, w)"
   ]
  }
 ],
 "metadata": {
  "kernelspec": {
   "display_name": "Python 3",
   "language": "python",
   "name": "python3"
  },
  "language_info": {
   "codemirror_mode": {
    "name": "ipython",
    "version": 3
   },
   "file_extension": ".py",
   "mimetype": "text/x-python",
   "name": "python",
   "nbconvert_exporter": "python",
   "pygments_lexer": "ipython3",
   "version": "3.6.3"
  }
 },
 "nbformat": 4,
 "nbformat_minor": 2
}
