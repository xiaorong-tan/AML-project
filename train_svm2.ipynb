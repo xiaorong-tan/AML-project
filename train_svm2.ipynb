{
 "cells": [
  {
   "cell_type": "code",
   "execution_count": null,
   "metadata": {
    "collapsed": true
   },
   "outputs": [],
   "source": [
    "import pandas as pd\n",
    "import glob,re,os\n",
    "import numpy as np\n",
    "from datetime import datetime\n",
    "import matplotlib.pyplot as plt\n",
    "%matplotlib inline"
   ]
  },
  {
   "cell_type": "code",
   "execution_count": null,
   "metadata": {
    "collapsed": true
   },
   "outputs": [],
   "source": [
    "data = {\n",
    "    'airvis': pd.read_csv('restaurant/air_visit_data.csv'),\n",
    "    'airres': pd.read_csv('restaurant/air_reserve.csv'),\n",
    "    'airinfo': pd.read_csv('restaurant/air_store_info.csv'),\n",
    "    'hpgres': pd.read_csv('restaurant/hpg_reserve.csv'),\n",
    "    'hpginfo': pd.read_csv('restaurant/hpg_store_info.csv'),\n",
    "    're': pd.read_csv('restaurant/store_id_relation.csv'),\n",
    "    'sample': pd.read_csv('restaurant/sample_submission.csv'),\n",
    "    'hol': pd.read_csv('restaurant/date_info.csv')\n",
    "}"
   ]
  },
  {
   "cell_type": "code",
   "execution_count": null,
   "metadata": {
    "collapsed": true
   },
   "outputs": [],
   "source": [
    "data['hpgres']=data['hpgres'].merge(data['re'],on=['hpg_store_id'],how='inner')"
   ]
  },
  {
   "cell_type": "code",
   "execution_count": null,
   "metadata": {
    "collapsed": true
   },
   "outputs": [],
   "source": [
    "data['hpgres'] = data['hpgres'].rename(columns={'visit_datetime': 'visit_date'})\n",
    "data['airres'] = data['airres'].rename(columns={'visit_datetime': 'visit_date'})"
   ]
  },
  {
   "cell_type": "code",
   "execution_count": null,
   "metadata": {
    "collapsed": true
   },
   "outputs": [],
   "source": [
    "data['hpgres'].tail()"
   ]
  },
  {
   "cell_type": "code",
   "execution_count": null,
   "metadata": {
    "collapsed": true
   },
   "outputs": [],
   "source": [
    "for df in ['airres','hpgres']:\n",
    "    data[df]['visit_date'] = pd.to_datetime(data[df]['visit_date']).dt.date\n",
    "    data[df]['reserve_datetime'] = pd.to_datetime(data[df]['reserve_datetime']).dt.date\n",
    "    data[df]['reserve_datetime_diff'] = data[df].apply(lambda r: (r['visit_date'] - r['reserve_datetime']).days, axis=1)\n",
    "    temp1 = data[df].groupby(['air_store_id','visit_date'], as_index=False)[['reserve_datetime_diff', 'reserve_visitors']].sum().rename(columns={'reserve_datetime_diff': 'sum of diff', 'reserve_visitors': 'sum of res vistors'})\n",
    "    temp2 = data[df].groupby(['air_store_id','visit_date'], as_index=False)[['reserve_datetime_diff', 'reserve_visitors']].mean().rename(columns={'reserve_datetime_diff': 'mean of diff', 'reserve_visitors':'mean of res visitors'})\n",
    "    data[df]=temp1.merge(temp2,how='inner',on=['air_store_id','visit_date'])"
   ]
  },
  {
   "cell_type": "code",
   "execution_count": null,
   "metadata": {
    "collapsed": true
   },
   "outputs": [],
   "source": [
    "data['airres'].tail()"
   ]
  },
  {
   "cell_type": "code",
   "execution_count": null,
   "metadata": {
    "collapsed": true
   },
   "outputs": [],
   "source": [
    "data['airvis']['visit_date']=pd.to_datetime(data['airvis']['visit_date'])\n",
    "data['airvis']['dow']=data['airvis']['visit_date'].dt.dayofweek\n",
    "data['airvis']['year']=data['airvis']['visit_date'].dt.year\n",
    "data['airvis']['month']=data['airvis']['visit_date'].dt.month\n",
    "data['airvis']['visit_date']=data['airvis']['visit_date'].dt.date"
   ]
  },
  {
   "cell_type": "code",
   "execution_count": null,
   "metadata": {
    "collapsed": true
   },
   "outputs": [],
   "source": [
    "data['airvis'].tail()"
   ]
  },
  {
   "cell_type": "code",
   "execution_count": null,
   "metadata": {
    "collapsed": true
   },
   "outputs": [],
   "source": [
    "data['sample']['visit_date'] = data['sample']['id'].map(lambda x: str(x).split('_')[2])\n",
    "data['sample']['air_store_id'] = data['sample']['id'].map(lambda x: '_'.join(x.split('_')[:2]))\n",
    "data['sample']['visit_date'] = pd.to_datetime(data['sample']['visit_date'])\n",
    "data['sample']['dow'] = data['sample']['visit_date'].dt.dayofweek\n",
    "data['sample']['year'] = data['sample']['visit_date'].dt.year\n",
    "data['sample']['month'] = data['sample']['visit_date'].dt.month\n",
    "data['sample']['visit_date'] = data['sample']['visit_date'].dt.date"
   ]
  },
  {
   "cell_type": "code",
   "execution_count": null,
   "metadata": {
    "collapsed": true
   },
   "outputs": [],
   "source": [
    "data['sample'].head()"
   ]
  },
  {
   "cell_type": "code",
   "execution_count": null,
   "metadata": {
    "collapsed": true
   },
   "outputs": [],
   "source": [
    "unique_stores=data['sample']['air_store_id'].unique()\n",
    "print('The number of unique stores is:', unique_stores.shape[0])\n",
    "print('total number of data records in test set is',data['sample'].shape[0])"
   ]
  },
  {
   "cell_type": "code",
   "execution_count": null,
   "metadata": {
    "collapsed": true
   },
   "outputs": [],
   "source": [
    "stores=pd.concat([pd.DataFrame({'air_store_id': unique_stores, 'dow': [i]*len(unique_stores)}) for i in range(7)],\n",
    "            axis=0,ignore_index=True).reset_index(drop=True)"
   ]
  },
  {
   "cell_type": "code",
   "execution_count": null,
   "metadata": {
    "collapsed": true
   },
   "outputs": [],
   "source": [
    "data['airvis']['id_dow']=data['airvis'].apply(lambda x: '_'.join([str(x['air_store_id']),str(x['dow'])]),axis=1)\n",
    "data['airvis']=data['airvis'].set_index('id_dow')\n",
    "data['sample']['id_dow']=data['sample'].apply(lambda x: '_'.join([str(x['air_store_id']),str(x['dow'])]),axis=1)\n",
    "data['sample']=data['sample'].set_index('id_dow')"
   ]
  },
  {
   "cell_type": "code",
   "execution_count": null,
   "metadata": {
    "collapsed": true
   },
   "outputs": [],
   "source": [
    "data['sample'].tail()"
   ]
  },
  {
   "cell_type": "code",
   "execution_count": null,
   "metadata": {
    "collapsed": true
   },
   "outputs": [],
   "source": [
    "temp=data['airvis'].groupby(['air_store_id','dow']).agg({'visitors':[np.min, np.mean, np.median, np.max, np.size]}).reset_index()\n",
    "temp.head()"
   ]
  },
  {
   "cell_type": "code",
   "execution_count": null,
   "metadata": {
    "collapsed": true
   },
   "outputs": [],
   "source": [
    "temp.columns = ['air_store_id', 'dow', 'min_visitors', 'mean_visitors', 'median_visitors','max_visitors','count_observations']\n",
    "stores=stores.merge(temp, on=['air_store_id','dow'],how='left')\n",
    "stores.tail()"
   ]
  },
  {
   "cell_type": "code",
   "execution_count": null,
   "metadata": {
    "collapsed": true
   },
   "outputs": [],
   "source": [
    "stores = pd.merge(stores, data['airinfo'], how='left', on=['air_store_id'])\n",
    "stores.tail()"
   ]
  },
  {
   "cell_type": "code",
   "execution_count": null,
   "metadata": {
    "collapsed": true
   },
   "outputs": [],
   "source": [
    "stores['air_genre_name'] = stores['air_genre_name'].map(lambda x: str(str(x).replace('/',' ')))\n",
    "stores['air_area_name'] = stores['air_area_name'].map(lambda x: str(str(x).replace('-',' ')))\n",
    "stores.tail()"
   ]
  },
  {
   "cell_type": "code",
   "execution_count": null,
   "metadata": {
    "collapsed": true
   },
   "outputs": [],
   "source": [
    "from sklearn import *\n",
    "lbl = preprocessing.LabelEncoder()\n",
    "for i in range(10):\n",
    "    stores['air_genre_name'+str(i)] = lbl.fit_transform(stores['air_genre_name'].map(lambda x: str(str(x).split(' ')[i]) if len(str(x).split(' '))>i else ''))\n",
    "    stores['air_area_name'+str(i)] = lbl.fit_transform(stores['air_area_name'].map(lambda x: str(str(x).split(' ')[i]) if len(str(x).split(' '))>i else ''))\n",
    "stores['air_genre_name'] = lbl.fit_transform(stores['air_genre_name'])\n",
    "stores['air_area_name'] = lbl.fit_transform(stores['air_area_name'])\n",
    "\n",
    "stores['air_genre_name'].unique()"
   ]
  },
  {
   "cell_type": "code",
   "execution_count": null,
   "metadata": {
    "collapsed": true
   },
   "outputs": [],
   "source": [
    "train=train.merge(stores,how='left',on=['air_store_id','dow'])\n",
    "test=test.merge(stores,how='left',on=['air_store_id','dow'])"
   ]
  },
  {
   "cell_type": "code",
   "execution_count": null,
   "metadata": {
    "collapsed": true
   },
   "outputs": [],
   "source": [
    "for df in ['airres','hpgres']:\n",
    "    train = pd.merge(train, data[df], on=['air_store_id','visit_date'], how='left')\n",
    "    test = pd.merge(test, data[df], on=['air_store_id', 'visit_date'], how='left')"
   ]
  },
  {
   "cell_type": "code",
   "execution_count": null,
   "metadata": {
    "collapsed": true
   },
   "outputs": [],
   "source": [
    "train = train.fillna(-1)\n",
    "test = test.fillna(-1)"
   ]
  },
  {
   "cell_type": "code",
   "execution_count": null,
   "metadata": {
    "collapsed": true
   },
   "outputs": [],
   "source": [
    "train.tail()"
   ]
  },
  {
   "cell_type": "code",
   "execution_count": null,
   "metadata": {
    "collapsed": true
   },
   "outputs": [],
   "source": [
    "test.tail()"
   ]
  },
  {
   "cell_type": "code",
   "execution_count": null,
   "metadata": {
    "collapsed": true
   },
   "outputs": [],
   "source": [
    "features = [f for f in train if f not in ['air_store_id', 'visit_date', 'visitors']]"
   ]
  },
  {
   "cell_type": "code",
   "execution_count": null,
   "metadata": {
    "collapsed": true
   },
   "outputs": [],
   "source": [
    "train = train.sort_values('visit_date')"
   ]
  },
  {
   "cell_type": "code",
   "execution_count": null,
   "metadata": {
    "collapsed": true
   },
   "outputs": [],
   "source": [
    "train.head()"
   ]
  },
  {
   "cell_type": "code",
   "execution_count": null,
   "metadata": {
    "collapsed": true
   },
   "outputs": [],
   "source": [
    "import pickle\n",
    "with open('train.pickle', 'rb') as r:\n",
    "    train = pickle.load(r)\n",
    "with open('test.pickle', 'rb') as r:\n",
    "    test = pickle. load(r)"
   ]
  },
  {
   "cell_type": "code",
   "execution_count": null,
   "metadata": {
    "collapsed": true
   },
   "outputs": [],
   "source": [
    "train_size = int(len(train)*0.7)\n",
    "test_size = len(train) - train_size\n",
    "input_train = train[features][0:train_size]\n",
    "input_test = train[features][train_size:len(train)]\n",
    "train_visitors = train.visitors.values[0:train_size]\n",
    "test_visitors = train.visitors.values[train_size:len(train)]\n"
   ]
  },
  {
   "cell_type": "code",
   "execution_count": null,
   "metadata": {
    "collapsed": true
   },
   "outputs": [],
   "source": [
    "len(train_visitors)"
   ]
  },
  {
   "cell_type": "code",
   "execution_count": null,
   "metadata": {
    "collapsed": true
   },
   "outputs": [],
   "source": [
    "from sklearn.model_selection import RandomizedSearchCV\n",
    "from sklearn import svm\n",
    "from sklearn.svm import SVR\n",
    "import pickle\n",
    "from scipy import stats\n",
    "\n",
    "with open('train.pickle', 'rb') as r:\n",
    "    train = pickle.load(r)\n",
    "with open('test.pickle', 'rb') as r:\n",
    "    test = pickle.load(r)\n",
    "features = [f for f in train if f not in ['air_store_id', 'visit_date', 'visitors']]\n",
    "train_size = int(len(train)*0.7)\n",
    "test_size = len(train) - train_size\n",
    "input_train = train[features][0:train_size]\n",
    "input_test = train[features][train_size:len(train)]\n",
    "train_visitors = train.visitors.values[0:train_size]\n",
    "test_visitors = train.visitors.values[train_size:len(train)]\n",
    "\n",
    "grid = RandomizedSearchCV(SVR(), {\"C\":stats.expon(scale=100), \"gamma\": stats.expon(scale=.1), 'kernel': ['rbf']})\n",
    "grid.fit(input_train, np.log1p(train_visitors))\n",
    "print(\"The best parameters are %s with a score of %0.2f\" %(grid.best_params_, grid.best_score_))"
   ]
  },
  {
   "cell_type": "code",
   "execution_count": null,
   "metadata": {
    "collapsed": true
   },
   "outputs": [],
   "source": [
    "from sklearn import svm\n",
    "from sklearn.svm import SVR\n",
    "import pickle\n",
    "with open('train.pickle', 'rb') as r:\n",
    "    train = pickle.load(r)\n",
    "with open('test.pickle', 'rb') as r:\n",
    "    test = pickle.load(r)\n",
    "features = [f for f in train if f not in ['air_store_id', 'visit_date', 'visitors']]\n",
    "train_size = int(len(train)*0.7)\n",
    "test_size = len(train) - train_size\n",
    "input_train = train[features][0:train_size]\n",
    "input_test = train[features][train_size:len(train)]\n",
    "train_visitors = train.visitors.values[0:train_size]\n",
    "test_visitors = train.visitors.values[train_size:len(train)]\n",
    "clf = svm.SVR(C=10, cache_size=300, coef0=0.0, degree=3, epsilon=0.1, gamma=0.1,\n",
    "    kernel='poly', max_iter=-1, shrinking=True, tol=0.001, verbose=False)\n",
    "clf.fit(input_train, train_visitors) \n",
    "pred3 = clf.predict(input_test)\n",
    "with open('svm_test_C10_gamma0_1_poly.pickle', 'wb') as w:\n",
    "    pickle.dump(pred3, w)"
   ]
  },
  {
   "cell_type": "code",
   "execution_count": null,
   "metadata": {
    "collapsed": true
   },
   "outputs": [],
   "source": [
    "import matplotlib.pyplot as plt\n",
    "from sklearn.metrics import mean_squared_error\n",
    "mean_squared_error(test_visitors, pred3)  "
   ]
  },
  {
   "cell_type": "code",
   "execution_count": null,
   "metadata": {
    "collapsed": true
   },
   "outputs": [],
   "source": [
    "import math\n",
    "import matplotlib.pyplot as plt\n",
    "pre, = plt.plot(pred2[100:200])\n",
    "trueValue, = plt.plot(test_visitors[100:200])\n",
    "plt.xlabel('time')\n",
    "plt.ylabel('visitors')\n",
    "plt.show()"
   ]
  },
  {
   "cell_type": "code",
   "execution_count": null,
   "metadata": {
    "collapsed": true
   },
   "outputs": [],
   "source": [
    "import pickle\n",
    "with open('svm_test_C1_gamma0_1_poly.pickle', 'wb') as w:\n",
    "    pickle.dump(pred3, w)"
   ]
  },
  {
   "cell_type": "code",
   "execution_count": 1,
   "metadata": {
    "collapsed": true
   },
   "outputs": [],
   "source": [
    "import pickle\n",
    "with open('svm_test_C1_gammaAuto_rbf.pickle', 'rb') as r:\n",
    "    svm_rbf1 = pickle.load(r)\n",
    "with open('svm_test_C10_gamma0_001_rbf.pickle', 'rb') as r:\n",
    "    svm_rbf2 = pickle.load(r)\n",
    "with open('svm_test_C1_gamma0_1_poly.pickle', 'rb') as r:\n",
    "    svm_poly1 = pickle.load(r)  \n",
    "with open('train.pickle', 'rb') as r:\n",
    "    train = pickle.load(r)\n",
    "train_size = int(len(train)*0.7)\n",
    "test_visitors = train.visitors.values[train_size:len(train)]"
   ]
  },
  {
   "cell_type": "code",
   "execution_count": 10,
   "metadata": {},
   "outputs": [
    {
     "data": {
      "image/png": "[encoded data removed]",
      "text/plain": [
       "<Figure size 432x288 with 1 Axes>"
      ]
     },
     "metadata": {},
     "output_type": "display_data"
    }
   ],
   "source": [
    "import math\n",
    "import matplotlib.pyplot as plt\n",
    "rbf1, = plt.plot(svm_rbf1[0:100])\n",
    "rbf2, = plt.plot(svm_rbf2[0:100])\n",
    "poly, = plt.plot(svm_poly1[0:100])\n",
    "trueV, = plt.plot(test_visitors[0:100])\n",
    "plt.xlabel('time')\n",
    "plt.ylabel('visitors')\n",
    "plt.legend([rbf1, rbf2, poly, trueV], ['C=1,kernel=rbf', 'C=10,kernel=rbf', 'C=1,kernel=poly', 'true values'], loc='upper left')\n",
    "plt.title('Support vector regression')\n",
    "plt.show()"
   ]
  },
  {
   "cell_type": "code",
   "execution_count": 11,
   "metadata": {
    "collapsed": true
   },
   "outputs": [],
   "source": [
    "plt.savefig('svr.eps', format='eps', dpi=1000)"
   ]
  },
  {
   "cell_type": "code",
   "execution_count": 12,
   "metadata": {},
   "outputs": [
    {
     "data": {
      "text/plain": [
       "242.44329667149077"
      ]
     },
     "execution_count": 12,
     "metadata": {},
     "output_type": "execute_result"
    }
   ],
   "source": [
    "from sklearn.metrics import mean_squared_error\n",
    "mean_squared_error(test_visitors, svm_poly1) "
   ]
  },
  {
   "cell_type": "code",
   "execution_count": 2,
   "metadata": {
    "collapsed": true
   },
   "outputs": [],
   "source": [
    "import pickle\n",
    "with open('rfr_test_tree34.pickle', 'rb') as r:\n",
    "    rfr = pickle.load(r)\n",
    "with open('lasso_test_alpha0_01.pickle', 'rb') as r:\n",
    "    lasso = pickle.load(r)"
   ]
  },
  {
   "cell_type": "code",
   "execution_count": 3,
   "metadata": {
    "collapsed": true
   },
   "outputs": [],
   "source": [
    "import math\n",
    "rfr_error = []\n",
    "lasso_error = []\n",
    "svm_poly_error = []\n",
    "svm_rbf_error = []\n",
    "for i in range(len(rfr)):\n",
    "    error1 = math.pow((rfr[i] - test_visitors[i]), 2)\n",
    "    rfr_error.append(error1)\n",
    "    error2 = math.pow((lasso[i] - test_visitors[i]), 2)\n",
    "    lasso_error.append(error2)\n",
    "    error3 = math.pow((svm_poly1[i] - test_visitors[i]), 2)\n",
    "    svm_poly_error.append(error3)\n",
    "    error4 = math.pow((svm_rbf1[i] - test_visitors[i]), 2)\n",
    "    svm_rbf_error.append(error4)\n"
   ]
  },
  {
   "cell_type": "code",
   "execution_count": 5,
   "metadata": {},
   "outputs": [
    {
     "data": {
      "image/png": "[encoded data removed]",
      "text/plain": [
       "<Figure size 648x360 with 1 Axes>"
      ]
     },
     "metadata": {},
     "output_type": "display_data"
    }
   ],
   "source": [
    "import matplotlib.pyplot as plt\n",
    "fig = plt.figure(1, figsize=(9, 5))\n",
    "ax = fig.add_subplot(111)\n",
    "#plt.boxplot([rfr, lasso, svm_poly1, svm_rbf1], 0, '')\n",
    "bp = ax.boxplot([rfr_error, lasso_error, svm_poly_error, svm_rbf_error], 0, '', patch_artist=True)\n",
    "ax.set_xticklabels(['Random Forest', 'Lasso', 'SVR-poly', 'SVR-RBF'])\n",
    "for box in bp['boxes']:\n",
    "    # change outline color\n",
    "    box.set( color='#7570b3', linewidth=2)\n",
    "    # change fill color\n",
    "    box.set( facecolor = '#1b9e77' )\n",
    "\n",
    "## change color and linewidth of the whiskers\n",
    "for whisker in bp['whiskers']:\n",
    "    whisker.set(color='#7570b3', linewidth=2)\n",
    "\n",
    "## change color and linewidth of the caps\n",
    "for cap in bp['caps']:\n",
    "    cap.set(color='#7570b3', linewidth=2)\n",
    "\n",
    "## change color and linewidth of the medians\n",
    "for median in bp['medians']:\n",
    "    median.set(color='#b2df8a', linewidth=2)\n",
    "plt.savefig('boxplot.png')\n",
    "plt.show()"
   ]
  },
  {
   "cell_type": "code",
   "execution_count": 47,
   "metadata": {
    "collapsed": true
   },
   "outputs": [],
   "source": []
  },
  {
   "cell_type": "code",
   "execution_count": 36,
   "metadata": {},
   "outputs": [
    {
     "data": {
      "text/plain": [
       "75633"
      ]
     },
     "execution_count": 36,
     "metadata": {},
     "output_type": "execute_result"
    }
   ],
   "source": [
    "len(svm_rbf1)"
   ]
  }
 ],
 "metadata": {
  "kernelspec": {
   "display_name": "Python 3",
   "language": "python",
   "name": "python3"
  },
  "language_info": {
   "codemirror_mode": {
    "name": "ipython",
    "version": 3
   },
   "file_extension": ".py",
   "mimetype": "text/x-python",
   "name": "python",
   "nbconvert_exporter": "python",
   "pygments_lexer": "ipython3",
   "version": "3.6.3"
  }
 },
 "nbformat": 4,
 "nbformat_minor": 2
}
