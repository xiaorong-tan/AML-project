{
 "cells": [
  {
   "cell_type": "code",
   "execution_count": 4,
   "metadata": {
    "collapsed": true
   },
   "outputs": [],
   "source": [
    "import pickle\n",
    "from scipy import stats\n",
    "from sklearn.ensemble import RandomForestRegressor\n",
    "from sklearn.datasets import make_regression\n",
    "from sklearn.metrics import mean_squared_error\n",
    "with open('train.pickle', 'rb') as r:\n",
    "    train = pickle.load(r)\n",
    "with open('test.pickle', 'rb') as r:\n",
    "    test = pickle.load(r)\n",
    "\n",
    "features = [f for f in train if f not in ['air_store_id', 'visit_date', 'visitors']]\n",
    "train_size = int(len(train)*0.7)\n",
    "test_size = len(train) - train_size\n",
    "input_train = train[features][0:train_size]\n",
    "input_test = train[features][train_size:len(train)]\n",
    "train_visitors = train.visitors.values[0:train_size]\n",
    "test_visitors = train.visitors.values[train_size:len(train)]\n",
    "\n",
    "error = []\n",
    "for i in range(1,42):\n",
    "    regr = RandomForestRegressor(n_estimators=i)\n",
    "    regr.fit(input_train, train_visitors)\n",
    "    pred_rfr = regr.predict(input_test)\n",
    "    error.append(mean_squared_error(test_visitors, pred_rfr))"
   ]
  },
  {
   "cell_type": "code",
   "execution_count": 5,
   "metadata": {},
   "outputs": [
    {
     "name": "stdout",
     "output_type": "stream",
     "text": [
      "40\n"
     ]
    }
   ],
   "source": [
    "for i in range(0, len(tree_error)):\n",
    "    if(tree_error[i] == min(tree_error)):\n",
    "        idx = i\n",
    "print(i)"
   ]
  },
  {
   "cell_type": "code",
   "execution_count": 5,
   "metadata": {
    "collapsed": true
   },
   "outputs": [],
   "source": [
    "with open('tree_error_selection.pickle', 'wb') as w:\n",
    "    pickle.dump(error, w)"
   ]
  },
  {
   "cell_type": "code",
   "execution_count": 6,
   "metadata": {},
   "outputs": [
    {
     "data": {
      "text/plain": [
       "105.73844981399075"
      ]
     },
     "execution_count": 6,
     "metadata": {},
     "output_type": "execute_result"
    }
   ],
   "source": [
    "min(error)"
   ]
  },
  {
   "cell_type": "code",
   "execution_count": 7,
   "metadata": {
    "collapsed": true
   },
   "outputs": [],
   "source": [
    "regr = RandomForestRegressor(n_estimators=34)\n",
    "regr.fit(input_train, train_visitors)\n",
    "pred_rfr = regr.predict(input_test)"
   ]
  },
  {
   "cell_type": "code",
   "execution_count": null,
   "metadata": {
    "collapsed": true
   },
   "outputs": [],
   "source": [
    "import matplotlib.pyplot as plt\n",
    "from sklearn.metrics import mean_squared_error\n",
    "mean_squared_error(test_visitors, pred_rfr)  # 30"
   ]
  },
  {
   "cell_type": "code",
   "execution_count": null,
   "metadata": {
    "collapsed": true
   },
   "outputs": [],
   "source": [
    "trueV, = plt.plot(test_visitors[0:100])\n",
    "predV, = plt.plot(pred_rfr[0:100])\n",
    "plt.xlabel('time')\n",
    "plt.ylabel('visitors')\n",
    "plt.legend([trueV, predV], ['true values', 'predictions'])\n",
    "plt.show()"
   ]
  },
  {
   "cell_type": "code",
   "execution_count": 8,
   "metadata": {
    "collapsed": true
   },
   "outputs": [],
   "source": [
    "with open('rfr_test_tree34.pickle', 'wb') as w:\n",
    "    pickle.dump(pred_rfr, w)"
   ]
  },
  {
   "cell_type": "code",
   "execution_count": null,
   "metadata": {
    "collapsed": true
   },
   "outputs": [],
   "source": [
    "import csv\n",
    "test['visitors'] = pred_rfr\n",
    "sub_rfr2 = test[['id', 'visitors']].copy()\n",
    "sub_rfr2.to_csv('sub_rfr2_tree34.csv', index=False)"
   ]
  },
  {
   "cell_type": "code",
   "execution_count": 1,
   "metadata": {},
   "outputs": [],
   "source": [
    "import pickle\n",
    "with open('tree_error_selection.pickle', 'rb') as r:\n",
    "    tree_error = pickle.load(r)"
   ]
  },
  {
   "cell_type": "code",
   "execution_count": 2,
   "metadata": {
    "collapsed": true
   },
   "outputs": [],
   "source": [
    "min_error = min(tree_error)"
   ]
  },
  {
   "cell_type": "code",
   "execution_count": 4,
   "metadata": {},
   "outputs": [
    {
     "data": {
      "image/png": "[encoded data removed]",
      "text/plain": [
       "<Figure size 432x288 with 1 Axes>"
      ]
     },
     "metadata": {},
     "output_type": "display_data"
    }
   ],
   "source": [
    "import matplotlib.pyplot as plt\n",
    "all_tree, =plt.plot(tree_error)\n",
    "min_tree, = plt.plot(34, min_error, 'ro')\n",
    "plt.xlabel('Number of trees')\n",
    "plt.ylabel('Mean squared error')\n",
    "plt.title('Random Forest Regression')\n",
    "plt.legend([all_tree, min_tree], ['All errors', 'Minimum error'], loc='upper right')\n",
    "plt.savefig('randomForest.png')\n",
    "plt.show()"
   ]
  },
  {
   "cell_type": "code",
   "execution_count": null,
   "metadata": {
    "collapsed": true
   },
   "outputs": [],
   "source": []
  }
 ],
 "metadata": {
  "kernelspec": {
   "display_name": "Python 3",
   "language": "python",
   "name": "python3"
  },
  "language_info": {
   "codemirror_mode": {
    "name": "ipython",
    "version": 3
   },
   "file_extension": ".py",
   "mimetype": "text/x-python",
   "name": "python",
   "nbconvert_exporter": "python",
   "pygments_lexer": "ipython3",
   "version": "3.6.3"
  }
 },
 "nbformat": 4,
 "nbformat_minor": 2
}
